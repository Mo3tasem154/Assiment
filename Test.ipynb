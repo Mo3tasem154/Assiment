{
 "cells": [
  {
   "cell_type": "markdown",
   "id": "f1b99268-1552-4854-9cfe-450d63447d8b",
   "metadata": {},
   "source": [
    "# My Jupyter Notebook on IBM Watson Studio"
   ]
  },
  {
   "cell_type": "markdown",
   "id": "4ebab90e-283a-44a3-9f8c-cf3376a55de0",
   "metadata": {},
   "source": [
    "### Moatasem Anwr"
   ]
  },
  {
   "cell_type": "markdown",
   "id": "1308e583-228e-4e28-b956-bcde82d4f6fa",
   "metadata": {},
   "source": [
    "IT"
   ]
  },
  {
   "cell_type": "markdown",
   "id": "913ddeea-a0bf-4aa1-a362-53439e88fab4",
   "metadata": {},
   "source": [
    "_I am interested in Data Science because I would love to contribute towards affordable and quality healthcare in the future_"
   ]
  },
  {
   "cell_type": "markdown",
   "id": "c3f907bc-c6c9-4e7a-934d-f1658eb0955d",
   "metadata": {},
   "source": [
    "### The below should print ‘Hello World’"
   ]
  },
  {
   "cell_type": "code",
   "execution_count": 3,
   "id": "ce6ae411-7331-40be-833e-a023c08c5839",
   "metadata": {},
   "outputs": [
    {
     "name": "stdout",
     "output_type": "stream",
     "text": [
      "Hello World!\n"
     ]
    }
   ],
   "source": [
    "print(\"Hello World!\")"
   ]
  },
  {
   "cell_type": "markdown",
   "id": "50f342e4-bcc9-430b-8f76-1a93fb90c676",
   "metadata": {
    "tags": []
   },
   "source": [
    "<h1>Thanks IBM</h1>\n",
    "<strong>My Name is Moatasem</strong><br>\n",
    "<a herf=\"google.com\">google</a>"
   ]
  }
 ],
 "metadata": {
  "kernelspec": {
   "display_name": "Python",
   "language": "python",
   "name": "conda-env-python-py"
  },
  "language_info": {
   "codemirror_mode": {
    "name": "ipython",
    "version": 3
   },
   "file_extension": ".py",
   "mimetype": "text/x-python",
   "name": "python",
   "nbconvert_exporter": "python",
   "pygments_lexer": "ipython3",
   "version": "3.7.12"
  }
 },
 "nbformat": 4,
 "nbformat_minor": 5
}
